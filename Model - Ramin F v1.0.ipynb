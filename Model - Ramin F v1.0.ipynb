{
 "cells": [
  {
   "cell_type": "markdown",
   "source": [
    "# Titanic Competition - Model - Ramin F.\r\n",
    "\r\n",
    "in this notebook we are going to develope a machine learning model for titanic competition. for this purpose we are going to test multiple approaches and algorithms to investigate which one will have the most accuracy."
   ],
   "metadata": {}
  },
  {
   "cell_type": "code",
   "execution_count": 105,
   "source": [
    "import pandas as pd\r\n",
    "import numpy as np\r\n",
    "import matplotlib.pyplot as plt\r\n",
    "import seaborn as sns\r\n",
    "import warnings\r\n",
    "from sklearn.model_selection import GridSearchCV\r\n",
    "from sklearn.metrics import confusion_matrix\r\n",
    "from sklearn.metrics import roc_auc_score\r\n",
    "from sklearn.metrics import roc_curve\r\n",
    "warnings.filterwarnings(\"ignore\")\r\n",
    "pd.set_option('display.max_rows', 200)\r\n",
    "np.set_printoptions(suppress=True)\r\n",
    "pd.set_option('display.float_format', lambda x: '%.2f' % x)\r\n",
    "sns.set_style('darkgrid')"
   ],
   "outputs": [],
   "metadata": {}
  },
  {
   "cell_type": "code",
   "execution_count": 41,
   "source": [
    "train = pd.read_csv('data/train.csv')\r\n",
    "test = pd.read_csv('data/test.csv')"
   ],
   "outputs": [],
   "metadata": {}
  },
  {
   "cell_type": "markdown",
   "source": [
    "# Droping unwanted features\r\n",
    "\r\n",
    "there are some useless features for ML models, in this section we are going to drop them."
   ],
   "metadata": {}
  },
  {
   "cell_type": "code",
   "execution_count": 42,
   "source": [
    "train.drop(['PassengerId', 'Name', 'Ticket', 'Cabin'], axis=1, inplace=True)"
   ],
   "outputs": [],
   "metadata": {}
  },
  {
   "cell_type": "markdown",
   "source": [
    "# Making Categorical Variables Continious (One-Hot)\r\n",
    "there are some categorical variables in dataset, i.e. \"Pclass\", \"Sex\" and \"Embarked\". in order to make this features usable by ML models we must make them continious. we are going to use one-hot encoding approach for this matter."
   ],
   "metadata": {}
  },
  {
   "cell_type": "code",
   "execution_count": 43,
   "source": [
    "dummy_pclass = pd.get_dummies(train['Pclass'], prefix='Pclass')\r\n",
    "dummy_sex = pd.get_dummies(train['Sex'], prefix='Sex')\r\n",
    "dummy_embarked = pd.get_dummies(train['Embarked'], prefix='Embarked')\r\n",
    "train = pd.concat([train, dummy_pclass, dummy_sex, dummy_embarked], axis=1)\r\n",
    "train.drop(['Pclass', 'Sex', 'Embarked'], axis=1, inplace=True)\r\n",
    "train"
   ],
   "outputs": [
    {
     "output_type": "execute_result",
     "data": {
      "text/html": [
       "<div>\n",
       "<style scoped>\n",
       "    .dataframe tbody tr th:only-of-type {\n",
       "        vertical-align: middle;\n",
       "    }\n",
       "\n",
       "    .dataframe tbody tr th {\n",
       "        vertical-align: top;\n",
       "    }\n",
       "\n",
       "    .dataframe thead th {\n",
       "        text-align: right;\n",
       "    }\n",
       "</style>\n",
       "<table border=\"1\" class=\"dataframe\">\n",
       "  <thead>\n",
       "    <tr style=\"text-align: right;\">\n",
       "      <th></th>\n",
       "      <th>Survived</th>\n",
       "      <th>Age</th>\n",
       "      <th>SibSp</th>\n",
       "      <th>Parch</th>\n",
       "      <th>Fare</th>\n",
       "      <th>Pclass_1</th>\n",
       "      <th>Pclass_2</th>\n",
       "      <th>Pclass_3</th>\n",
       "      <th>Sex_female</th>\n",
       "      <th>Sex_male</th>\n",
       "      <th>Embarked_C</th>\n",
       "      <th>Embarked_Q</th>\n",
       "      <th>Embarked_S</th>\n",
       "    </tr>\n",
       "  </thead>\n",
       "  <tbody>\n",
       "    <tr>\n",
       "      <th>0</th>\n",
       "      <td>0</td>\n",
       "      <td>22.00</td>\n",
       "      <td>1</td>\n",
       "      <td>0</td>\n",
       "      <td>7.25</td>\n",
       "      <td>0</td>\n",
       "      <td>0</td>\n",
       "      <td>1</td>\n",
       "      <td>0</td>\n",
       "      <td>1</td>\n",
       "      <td>0</td>\n",
       "      <td>0</td>\n",
       "      <td>1</td>\n",
       "    </tr>\n",
       "    <tr>\n",
       "      <th>1</th>\n",
       "      <td>1</td>\n",
       "      <td>38.00</td>\n",
       "      <td>1</td>\n",
       "      <td>0</td>\n",
       "      <td>71.28</td>\n",
       "      <td>1</td>\n",
       "      <td>0</td>\n",
       "      <td>0</td>\n",
       "      <td>1</td>\n",
       "      <td>0</td>\n",
       "      <td>1</td>\n",
       "      <td>0</td>\n",
       "      <td>0</td>\n",
       "    </tr>\n",
       "    <tr>\n",
       "      <th>2</th>\n",
       "      <td>1</td>\n",
       "      <td>26.00</td>\n",
       "      <td>0</td>\n",
       "      <td>0</td>\n",
       "      <td>7.92</td>\n",
       "      <td>0</td>\n",
       "      <td>0</td>\n",
       "      <td>1</td>\n",
       "      <td>1</td>\n",
       "      <td>0</td>\n",
       "      <td>0</td>\n",
       "      <td>0</td>\n",
       "      <td>1</td>\n",
       "    </tr>\n",
       "    <tr>\n",
       "      <th>3</th>\n",
       "      <td>1</td>\n",
       "      <td>35.00</td>\n",
       "      <td>1</td>\n",
       "      <td>0</td>\n",
       "      <td>53.10</td>\n",
       "      <td>1</td>\n",
       "      <td>0</td>\n",
       "      <td>0</td>\n",
       "      <td>1</td>\n",
       "      <td>0</td>\n",
       "      <td>0</td>\n",
       "      <td>0</td>\n",
       "      <td>1</td>\n",
       "    </tr>\n",
       "    <tr>\n",
       "      <th>4</th>\n",
       "      <td>0</td>\n",
       "      <td>35.00</td>\n",
       "      <td>0</td>\n",
       "      <td>0</td>\n",
       "      <td>8.05</td>\n",
       "      <td>0</td>\n",
       "      <td>0</td>\n",
       "      <td>1</td>\n",
       "      <td>0</td>\n",
       "      <td>1</td>\n",
       "      <td>0</td>\n",
       "      <td>0</td>\n",
       "      <td>1</td>\n",
       "    </tr>\n",
       "    <tr>\n",
       "      <th>...</th>\n",
       "      <td>...</td>\n",
       "      <td>...</td>\n",
       "      <td>...</td>\n",
       "      <td>...</td>\n",
       "      <td>...</td>\n",
       "      <td>...</td>\n",
       "      <td>...</td>\n",
       "      <td>...</td>\n",
       "      <td>...</td>\n",
       "      <td>...</td>\n",
       "      <td>...</td>\n",
       "      <td>...</td>\n",
       "      <td>...</td>\n",
       "    </tr>\n",
       "    <tr>\n",
       "      <th>886</th>\n",
       "      <td>0</td>\n",
       "      <td>27.00</td>\n",
       "      <td>0</td>\n",
       "      <td>0</td>\n",
       "      <td>13.00</td>\n",
       "      <td>0</td>\n",
       "      <td>1</td>\n",
       "      <td>0</td>\n",
       "      <td>0</td>\n",
       "      <td>1</td>\n",
       "      <td>0</td>\n",
       "      <td>0</td>\n",
       "      <td>1</td>\n",
       "    </tr>\n",
       "    <tr>\n",
       "      <th>887</th>\n",
       "      <td>1</td>\n",
       "      <td>19.00</td>\n",
       "      <td>0</td>\n",
       "      <td>0</td>\n",
       "      <td>30.00</td>\n",
       "      <td>1</td>\n",
       "      <td>0</td>\n",
       "      <td>0</td>\n",
       "      <td>1</td>\n",
       "      <td>0</td>\n",
       "      <td>0</td>\n",
       "      <td>0</td>\n",
       "      <td>1</td>\n",
       "    </tr>\n",
       "    <tr>\n",
       "      <th>888</th>\n",
       "      <td>0</td>\n",
       "      <td>NaN</td>\n",
       "      <td>1</td>\n",
       "      <td>2</td>\n",
       "      <td>23.45</td>\n",
       "      <td>0</td>\n",
       "      <td>0</td>\n",
       "      <td>1</td>\n",
       "      <td>1</td>\n",
       "      <td>0</td>\n",
       "      <td>0</td>\n",
       "      <td>0</td>\n",
       "      <td>1</td>\n",
       "    </tr>\n",
       "    <tr>\n",
       "      <th>889</th>\n",
       "      <td>1</td>\n",
       "      <td>26.00</td>\n",
       "      <td>0</td>\n",
       "      <td>0</td>\n",
       "      <td>30.00</td>\n",
       "      <td>1</td>\n",
       "      <td>0</td>\n",
       "      <td>0</td>\n",
       "      <td>0</td>\n",
       "      <td>1</td>\n",
       "      <td>1</td>\n",
       "      <td>0</td>\n",
       "      <td>0</td>\n",
       "    </tr>\n",
       "    <tr>\n",
       "      <th>890</th>\n",
       "      <td>0</td>\n",
       "      <td>32.00</td>\n",
       "      <td>0</td>\n",
       "      <td>0</td>\n",
       "      <td>7.75</td>\n",
       "      <td>0</td>\n",
       "      <td>0</td>\n",
       "      <td>1</td>\n",
       "      <td>0</td>\n",
       "      <td>1</td>\n",
       "      <td>0</td>\n",
       "      <td>1</td>\n",
       "      <td>0</td>\n",
       "    </tr>\n",
       "  </tbody>\n",
       "</table>\n",
       "<p>891 rows × 13 columns</p>\n",
       "</div>"
      ],
      "text/plain": [
       "     Survived   Age  SibSp  Parch  Fare  Pclass_1  Pclass_2  Pclass_3  \\\n",
       "0           0 22.00      1      0  7.25         0         0         1   \n",
       "1           1 38.00      1      0 71.28         1         0         0   \n",
       "2           1 26.00      0      0  7.92         0         0         1   \n",
       "3           1 35.00      1      0 53.10         1         0         0   \n",
       "4           0 35.00      0      0  8.05         0         0         1   \n",
       "..        ...   ...    ...    ...   ...       ...       ...       ...   \n",
       "886         0 27.00      0      0 13.00         0         1         0   \n",
       "887         1 19.00      0      0 30.00         1         0         0   \n",
       "888         0   NaN      1      2 23.45         0         0         1   \n",
       "889         1 26.00      0      0 30.00         1         0         0   \n",
       "890         0 32.00      0      0  7.75         0         0         1   \n",
       "\n",
       "     Sex_female  Sex_male  Embarked_C  Embarked_Q  Embarked_S  \n",
       "0             0         1           0           0           1  \n",
       "1             1         0           1           0           0  \n",
       "2             1         0           0           0           1  \n",
       "3             1         0           0           0           1  \n",
       "4             0         1           0           0           1  \n",
       "..          ...       ...         ...         ...         ...  \n",
       "886           0         1           0           0           1  \n",
       "887           1         0           0           0           1  \n",
       "888           1         0           0           0           1  \n",
       "889           0         1           1           0           0  \n",
       "890           0         1           0           1           0  \n",
       "\n",
       "[891 rows x 13 columns]"
      ]
     },
     "metadata": {},
     "execution_count": 43
    }
   ],
   "metadata": {}
  },
  {
   "cell_type": "markdown",
   "source": [
    "# Treating Missing Values Problem\r\n",
    "\r\n",
    "as we saw in the EDA notebook, some records have missing values. to be more specific, in \"Age\" feature we have 177 records with missing data and 3 records with missing data in \"Embarked\" Features. the \"Cabin\" feature also has some missing values but since we will going to drop that feature, there is no need for imputing that feature."
   ],
   "metadata": {}
  },
  {
   "cell_type": "code",
   "execution_count": 44,
   "source": [
    "train.isnull().sum()"
   ],
   "outputs": [
    {
     "output_type": "execute_result",
     "data": {
      "text/plain": [
       "Survived        0\n",
       "Age           177\n",
       "SibSp           0\n",
       "Parch           0\n",
       "Fare            0\n",
       "Pclass_1        0\n",
       "Pclass_2        0\n",
       "Pclass_3        0\n",
       "Sex_female      0\n",
       "Sex_male        0\n",
       "Embarked_C      0\n",
       "Embarked_Q      0\n",
       "Embarked_S      0\n",
       "dtype: int64"
      ]
     },
     "metadata": {},
     "execution_count": 44
    }
   ],
   "metadata": {}
  },
  {
   "cell_type": "code",
   "execution_count": 45,
   "source": [
    "from sklearn.experimental import enable_iterative_imputer\r\n",
    "from sklearn.impute import IterativeImputer"
   ],
   "outputs": [],
   "metadata": {}
  },
  {
   "cell_type": "code",
   "execution_count": 46,
   "source": [
    "train_imputation_matrix = train.values\r\n",
    "imp = IterativeImputer(max_iter = 10)\r\n",
    "predicted_imp = np.round(imp.fit_transform(train_imputation_matrix))"
   ],
   "outputs": [],
   "metadata": {}
  },
  {
   "cell_type": "code",
   "execution_count": 47,
   "source": [
    "train_imputed = pd.DataFrame(predicted_imp, columns=['Survived', 'Age', 'SibSp', 'Parch', 'Fare', 'Pclass_1', 'Pclass_2', 'Pclass_3',\r\n",
    "                                                     'Sex_female', 'Sex_male', 'Embarked_C', 'Embarked_Q', 'Embarked_S'])\r\n",
    "\r\n",
    "train = train.merge(train_imputed, on=train.index, how='left')\r\n",
    "train.drop(['key_0', 'Survived_x', 'Age_x', 'SibSp_x', 'Parch_x', 'Fare_x', 'Pclass_1_x', 'Pclass_2_x', 'Pclass_3_x',\r\n",
    "            'Sex_female_x', 'Sex_male_x', 'Embarked_C_x', 'Embarked_Q_x', 'Embarked_S_x'], axis=1, inplace=True)\r\n",
    "train.rename(columns={'Survived_y': 'Survived',\r\n",
    "                      'Age_y': 'Age',\r\n",
    "                      'SibSp_y': 'SibSp',\r\n",
    "                      'Parch_y': 'Parch',\r\n",
    "                      'Fare_y': 'Fare',\r\n",
    "                      'Pclass_1_y': 'Pclass_1',\r\n",
    "                      'Pclass_2_y': 'Pclass_2',\r\n",
    "                      'Pclass_3_y': 'Pclass_3',\r\n",
    "                      'Sex_female_y': 'Sex_female',\r\n",
    "                      'Sex_male_y': 'Sex_male',\r\n",
    "                      'Embarked_C_y': 'Embarked_C',\r\n",
    "                      'Embarked_Q_y': 'Embarked_Q',\r\n",
    "                      'Embarked_S_y': 'Embarked_S'}, inplace=True)\r\n",
    "train"
   ],
   "outputs": [
    {
     "output_type": "execute_result",
     "data": {
      "text/html": [
       "<div>\n",
       "<style scoped>\n",
       "    .dataframe tbody tr th:only-of-type {\n",
       "        vertical-align: middle;\n",
       "    }\n",
       "\n",
       "    .dataframe tbody tr th {\n",
       "        vertical-align: top;\n",
       "    }\n",
       "\n",
       "    .dataframe thead th {\n",
       "        text-align: right;\n",
       "    }\n",
       "</style>\n",
       "<table border=\"1\" class=\"dataframe\">\n",
       "  <thead>\n",
       "    <tr style=\"text-align: right;\">\n",
       "      <th></th>\n",
       "      <th>Survived</th>\n",
       "      <th>Age</th>\n",
       "      <th>SibSp</th>\n",
       "      <th>Parch</th>\n",
       "      <th>Fare</th>\n",
       "      <th>Pclass_1</th>\n",
       "      <th>Pclass_2</th>\n",
       "      <th>Pclass_3</th>\n",
       "      <th>Sex_female</th>\n",
       "      <th>Sex_male</th>\n",
       "      <th>Embarked_C</th>\n",
       "      <th>Embarked_Q</th>\n",
       "      <th>Embarked_S</th>\n",
       "    </tr>\n",
       "  </thead>\n",
       "  <tbody>\n",
       "    <tr>\n",
       "      <th>0</th>\n",
       "      <td>0.00</td>\n",
       "      <td>22.00</td>\n",
       "      <td>1.00</td>\n",
       "      <td>0.00</td>\n",
       "      <td>7.00</td>\n",
       "      <td>0.00</td>\n",
       "      <td>0.00</td>\n",
       "      <td>1.00</td>\n",
       "      <td>0.00</td>\n",
       "      <td>1.00</td>\n",
       "      <td>0.00</td>\n",
       "      <td>0.00</td>\n",
       "      <td>1.00</td>\n",
       "    </tr>\n",
       "    <tr>\n",
       "      <th>1</th>\n",
       "      <td>1.00</td>\n",
       "      <td>38.00</td>\n",
       "      <td>1.00</td>\n",
       "      <td>0.00</td>\n",
       "      <td>71.00</td>\n",
       "      <td>1.00</td>\n",
       "      <td>0.00</td>\n",
       "      <td>0.00</td>\n",
       "      <td>1.00</td>\n",
       "      <td>0.00</td>\n",
       "      <td>1.00</td>\n",
       "      <td>0.00</td>\n",
       "      <td>0.00</td>\n",
       "    </tr>\n",
       "    <tr>\n",
       "      <th>2</th>\n",
       "      <td>1.00</td>\n",
       "      <td>26.00</td>\n",
       "      <td>0.00</td>\n",
       "      <td>0.00</td>\n",
       "      <td>8.00</td>\n",
       "      <td>0.00</td>\n",
       "      <td>0.00</td>\n",
       "      <td>1.00</td>\n",
       "      <td>1.00</td>\n",
       "      <td>0.00</td>\n",
       "      <td>0.00</td>\n",
       "      <td>0.00</td>\n",
       "      <td>1.00</td>\n",
       "    </tr>\n",
       "    <tr>\n",
       "      <th>3</th>\n",
       "      <td>1.00</td>\n",
       "      <td>35.00</td>\n",
       "      <td>1.00</td>\n",
       "      <td>0.00</td>\n",
       "      <td>53.00</td>\n",
       "      <td>1.00</td>\n",
       "      <td>0.00</td>\n",
       "      <td>0.00</td>\n",
       "      <td>1.00</td>\n",
       "      <td>0.00</td>\n",
       "      <td>0.00</td>\n",
       "      <td>0.00</td>\n",
       "      <td>1.00</td>\n",
       "    </tr>\n",
       "    <tr>\n",
       "      <th>4</th>\n",
       "      <td>0.00</td>\n",
       "      <td>35.00</td>\n",
       "      <td>0.00</td>\n",
       "      <td>0.00</td>\n",
       "      <td>8.00</td>\n",
       "      <td>0.00</td>\n",
       "      <td>0.00</td>\n",
       "      <td>1.00</td>\n",
       "      <td>0.00</td>\n",
       "      <td>1.00</td>\n",
       "      <td>0.00</td>\n",
       "      <td>0.00</td>\n",
       "      <td>1.00</td>\n",
       "    </tr>\n",
       "    <tr>\n",
       "      <th>...</th>\n",
       "      <td>...</td>\n",
       "      <td>...</td>\n",
       "      <td>...</td>\n",
       "      <td>...</td>\n",
       "      <td>...</td>\n",
       "      <td>...</td>\n",
       "      <td>...</td>\n",
       "      <td>...</td>\n",
       "      <td>...</td>\n",
       "      <td>...</td>\n",
       "      <td>...</td>\n",
       "      <td>...</td>\n",
       "      <td>...</td>\n",
       "    </tr>\n",
       "    <tr>\n",
       "      <th>886</th>\n",
       "      <td>0.00</td>\n",
       "      <td>27.00</td>\n",
       "      <td>0.00</td>\n",
       "      <td>0.00</td>\n",
       "      <td>13.00</td>\n",
       "      <td>0.00</td>\n",
       "      <td>1.00</td>\n",
       "      <td>0.00</td>\n",
       "      <td>0.00</td>\n",
       "      <td>1.00</td>\n",
       "      <td>0.00</td>\n",
       "      <td>0.00</td>\n",
       "      <td>1.00</td>\n",
       "    </tr>\n",
       "    <tr>\n",
       "      <th>887</th>\n",
       "      <td>1.00</td>\n",
       "      <td>19.00</td>\n",
       "      <td>0.00</td>\n",
       "      <td>0.00</td>\n",
       "      <td>30.00</td>\n",
       "      <td>1.00</td>\n",
       "      <td>0.00</td>\n",
       "      <td>0.00</td>\n",
       "      <td>1.00</td>\n",
       "      <td>0.00</td>\n",
       "      <td>0.00</td>\n",
       "      <td>0.00</td>\n",
       "      <td>1.00</td>\n",
       "    </tr>\n",
       "    <tr>\n",
       "      <th>888</th>\n",
       "      <td>0.00</td>\n",
       "      <td>24.00</td>\n",
       "      <td>1.00</td>\n",
       "      <td>2.00</td>\n",
       "      <td>23.00</td>\n",
       "      <td>0.00</td>\n",
       "      <td>0.00</td>\n",
       "      <td>1.00</td>\n",
       "      <td>1.00</td>\n",
       "      <td>0.00</td>\n",
       "      <td>0.00</td>\n",
       "      <td>0.00</td>\n",
       "      <td>1.00</td>\n",
       "    </tr>\n",
       "    <tr>\n",
       "      <th>889</th>\n",
       "      <td>1.00</td>\n",
       "      <td>26.00</td>\n",
       "      <td>0.00</td>\n",
       "      <td>0.00</td>\n",
       "      <td>30.00</td>\n",
       "      <td>1.00</td>\n",
       "      <td>0.00</td>\n",
       "      <td>0.00</td>\n",
       "      <td>0.00</td>\n",
       "      <td>1.00</td>\n",
       "      <td>1.00</td>\n",
       "      <td>0.00</td>\n",
       "      <td>0.00</td>\n",
       "    </tr>\n",
       "    <tr>\n",
       "      <th>890</th>\n",
       "      <td>0.00</td>\n",
       "      <td>32.00</td>\n",
       "      <td>0.00</td>\n",
       "      <td>0.00</td>\n",
       "      <td>8.00</td>\n",
       "      <td>0.00</td>\n",
       "      <td>0.00</td>\n",
       "      <td>1.00</td>\n",
       "      <td>0.00</td>\n",
       "      <td>1.00</td>\n",
       "      <td>0.00</td>\n",
       "      <td>1.00</td>\n",
       "      <td>0.00</td>\n",
       "    </tr>\n",
       "  </tbody>\n",
       "</table>\n",
       "<p>891 rows × 13 columns</p>\n",
       "</div>"
      ],
      "text/plain": [
       "     Survived   Age  SibSp  Parch  Fare  Pclass_1  Pclass_2  Pclass_3  \\\n",
       "0        0.00 22.00   1.00   0.00  7.00      0.00      0.00      1.00   \n",
       "1        1.00 38.00   1.00   0.00 71.00      1.00      0.00      0.00   \n",
       "2        1.00 26.00   0.00   0.00  8.00      0.00      0.00      1.00   \n",
       "3        1.00 35.00   1.00   0.00 53.00      1.00      0.00      0.00   \n",
       "4        0.00 35.00   0.00   0.00  8.00      0.00      0.00      1.00   \n",
       "..        ...   ...    ...    ...   ...       ...       ...       ...   \n",
       "886      0.00 27.00   0.00   0.00 13.00      0.00      1.00      0.00   \n",
       "887      1.00 19.00   0.00   0.00 30.00      1.00      0.00      0.00   \n",
       "888      0.00 24.00   1.00   2.00 23.00      0.00      0.00      1.00   \n",
       "889      1.00 26.00   0.00   0.00 30.00      1.00      0.00      0.00   \n",
       "890      0.00 32.00   0.00   0.00  8.00      0.00      0.00      1.00   \n",
       "\n",
       "     Sex_female  Sex_male  Embarked_C  Embarked_Q  Embarked_S  \n",
       "0          0.00      1.00        0.00        0.00        1.00  \n",
       "1          1.00      0.00        1.00        0.00        0.00  \n",
       "2          1.00      0.00        0.00        0.00        1.00  \n",
       "3          1.00      0.00        0.00        0.00        1.00  \n",
       "4          0.00      1.00        0.00        0.00        1.00  \n",
       "..          ...       ...         ...         ...         ...  \n",
       "886        0.00      1.00        0.00        0.00        1.00  \n",
       "887        1.00      0.00        0.00        0.00        1.00  \n",
       "888        1.00      0.00        0.00        0.00        1.00  \n",
       "889        0.00      1.00        1.00        0.00        0.00  \n",
       "890        0.00      1.00        0.00        1.00        0.00  \n",
       "\n",
       "[891 rows x 13 columns]"
      ]
     },
     "metadata": {},
     "execution_count": 47
    }
   ],
   "metadata": {}
  },
  {
   "cell_type": "code",
   "execution_count": 49,
   "source": [
    "train.isnull().sum()"
   ],
   "outputs": [
    {
     "output_type": "execute_result",
     "data": {
      "text/plain": [
       "Survived      0\n",
       "Age           0\n",
       "SibSp         0\n",
       "Parch         0\n",
       "Fare          0\n",
       "Pclass_1      0\n",
       "Pclass_2      0\n",
       "Pclass_3      0\n",
       "Sex_female    0\n",
       "Sex_male      0\n",
       "Embarked_C    0\n",
       "Embarked_Q    0\n",
       "Embarked_S    0\n",
       "dtype: int64"
      ]
     },
     "metadata": {},
     "execution_count": 49
    }
   ],
   "metadata": {}
  },
  {
   "cell_type": "markdown",
   "source": [
    "as you can see in the cell above all of the 177 records with missing values in \"Age\" feature had been imputed."
   ],
   "metadata": {}
  },
  {
   "cell_type": "markdown",
   "source": [
    "# Splitting Dependent and Independent Variables\r\n",
    "next step we have to do is splitting the dependent and independent variables from together. in this project dependent variable is \"Survived\" feature."
   ],
   "metadata": {}
  },
  {
   "cell_type": "code",
   "execution_count": 54,
   "source": [
    "Y = np.asarray(train['Survived'])\r\n",
    "X = np.asarray(train.loc[:, ~ train.columns.isin(['Survived'])])\r\n",
    "print(f'dependent variable matrix shape: {Y.shape}')\r\n",
    "print(f'independent variables matrix shape: {X.shape}')"
   ],
   "outputs": [
    {
     "output_type": "stream",
     "name": "stdout",
     "text": [
      "dependent variable matrix shape: (891,)\n",
      "independent variables matrix shape: (891, 12)\n"
     ]
    }
   ],
   "metadata": {}
  },
  {
   "cell_type": "markdown",
   "source": [
    "# PCA for Demonstrating datapoints in 2-Dimension"
   ],
   "metadata": {}
  },
  {
   "cell_type": "code",
   "execution_count": 55,
   "source": [
    "from sklearn.decomposition import PCA\r\n",
    "pca = PCA(n_components=2)\r\n",
    "pca.fit(X)\r\n",
    "X_pca = pca.transform(X)\r\n",
    "print(f'original shape: {X.shape}.')\r\n",
    "print(f'transformed shape: {X_pca.shape}.')"
   ],
   "outputs": [
    {
     "output_type": "stream",
     "name": "stdout",
     "text": [
      "original shape: (891, 12).\n",
      "transformed shape: (891, 2).\n"
     ]
    }
   ],
   "metadata": {}
  },
  {
   "cell_type": "code",
   "execution_count": 56,
   "source": [
    "plt.figure(figsize = (10, 8))\r\n",
    "sns.scatterplot(X_pca[:, 0], X_pca[:, 1],s=75)\r\n",
    "plt.xlabel('component 1')\r\n",
    "plt.ylabel('component 2')\r\n",
    "plt.show()"
   ],
   "outputs": [
    {
     "output_type": "display_data",
     "data": {
      "image/png": "[encoded data removed]",
      "text/plain": [
       "<Figure size 720x576 with 1 Axes>"
      ]
     },
     "metadata": {}
    }
   ],
   "metadata": {}
  },
  {
   "cell_type": "markdown",
   "source": [
    "# Logistic Regression"
   ],
   "metadata": {}
  },
  {
   "cell_type": "code",
   "execution_count": 68,
   "source": [
    "from sklearn.linear_model import LogisticRegression\r\n",
    "\r\n",
    "params = {'fit_intercept': [True, False],    \r\n",
    "        'C': [1, .5, .25, .1, .05, .025, .01, .005, .0025, .001]}\r\n",
    "\r\n",
    "grid = GridSearchCV(LogisticRegression(), param_grid=params, return_train_score=True, verbose=3)\r\n",
    "grid.fit(X, Y)\r\n",
    "print('\\n', f'{grid.best_estimator_} best hyperparameters are: {grid.best_params_} with the accuracy of: {grid.best_score_:.2f}')"
   ],
   "outputs": [
    {
     "output_type": "stream",
     "name": "stdout",
     "text": [
      "Fitting 5 folds for each of 20 candidates, totalling 100 fits\n",
      "[CV 1/5] END C=1, fit_intercept=True;, score=(train=0.817, test=0.799) total time=   0.0s\n",
      "[CV 2/5] END C=1, fit_intercept=True;, score=(train=0.818, test=0.820) total time=   0.0s\n",
      "[CV 3/5] END C=1, fit_intercept=True;, score=(train=0.811, test=0.809) total time=   0.0s\n",
      "[CV 4/5] END C=1, fit_intercept=True;, score=(train=0.815, test=0.798) total time=   0.0s\n",
      "[CV 5/5] END C=1, fit_intercept=True;, score=(train=0.813, test=0.826) total time=   0.0s\n",
      "[CV 1/5] END C=1, fit_intercept=False;, score=(train=0.816, test=0.793) total time=   0.0s\n",
      "[CV 2/5] END C=1, fit_intercept=False;, score=(train=0.818, test=0.820) total time=   0.1s\n",
      "[CV 3/5] END C=1, fit_intercept=False;, score=(train=0.811, test=0.803) total time=   0.2s\n",
      "[CV 4/5] END C=1, fit_intercept=False;, score=(train=0.813, test=0.787) total time=   0.0s\n",
      "[CV 5/5] END C=1, fit_intercept=False;, score=(train=0.811, test=0.831) total time=   0.0s\n",
      "[CV 1/5] END C=0.5, fit_intercept=True;, score=(train=0.816, test=0.793) total time=   0.0s\n",
      "[CV 2/5] END C=0.5, fit_intercept=True;, score=(train=0.818, test=0.820) total time=   0.0s\n",
      "[CV 3/5] END C=0.5, fit_intercept=True;, score=(train=0.811, test=0.809) total time=   0.0s\n",
      "[CV 4/5] END C=0.5, fit_intercept=True;, score=(train=0.816, test=0.798) total time=   0.0s\n",
      "[CV 5/5] END C=0.5, fit_intercept=True;, score=(train=0.813, test=0.831) total time=   0.0s\n",
      "[CV 1/5] END C=0.5, fit_intercept=False;, score=(train=0.820, test=0.799) total time=   0.0s\n",
      "[CV 2/5] END C=0.5, fit_intercept=False;, score=(train=0.815, test=0.820) total time=   0.0s\n",
      "[CV 3/5] END C=0.5, fit_intercept=False;, score=(train=0.811, test=0.798) total time=   0.0s\n",
      "[CV 4/5] END C=0.5, fit_intercept=False;, score=(train=0.811, test=0.770) total time=   0.0s\n",
      "[CV 5/5] END C=0.5, fit_intercept=False;, score=(train=0.808, test=0.837) total time=   0.0s\n",
      "[CV 1/5] END C=0.25, fit_intercept=True;, score=(train=0.820, test=0.799) total time=   0.0s\n",
      "[CV 2/5] END C=0.25, fit_intercept=True;, score=(train=0.818, test=0.815) total time=   0.0s\n",
      "[CV 3/5] END C=0.25, fit_intercept=True;, score=(train=0.813, test=0.803) total time=   0.0s\n",
      "[CV 4/5] END C=0.25, fit_intercept=True;, score=(train=0.812, test=0.770) total time=   0.0s\n",
      "[CV 5/5] END C=0.25, fit_intercept=True;, score=(train=0.809, test=0.837) total time=   0.0s\n",
      "[CV 1/5] END C=0.25, fit_intercept=False;, score=(train=0.816, test=0.799) total time=   0.0s\n",
      "[CV 2/5] END C=0.25, fit_intercept=False;, score=(train=0.818, test=0.820) total time=   0.0s\n",
      "[CV 3/5] END C=0.25, fit_intercept=False;, score=(train=0.811, test=0.798) total time=   0.0s\n",
      "[CV 4/5] END C=0.25, fit_intercept=False;, score=(train=0.812, test=0.770) total time=   0.0s\n",
      "[CV 5/5] END C=0.25, fit_intercept=False;, score=(train=0.806, test=0.843) total time=   0.0s\n",
      "[CV 1/5] END C=0.1, fit_intercept=True;, score=(train=0.819, test=0.804) total time=   0.0s\n",
      "[CV 2/5] END C=0.1, fit_intercept=True;, score=(train=0.819, test=0.820) total time=   0.0s\n",
      "[CV 3/5] END C=0.1, fit_intercept=True;, score=(train=0.812, test=0.798) total time=   0.0s\n",
      "[CV 4/5] END C=0.1, fit_intercept=True;, score=(train=0.812, test=0.781) total time=   0.0s\n",
      "[CV 5/5] END C=0.1, fit_intercept=True;, score=(train=0.806, test=0.843) total time=   0.0s\n",
      "[CV 1/5] END C=0.1, fit_intercept=False;, score=(train=0.820, test=0.804) total time=   0.0s\n",
      "[CV 2/5] END C=0.1, fit_intercept=False;, score=(train=0.818, test=0.809) total time=   0.0s\n",
      "[CV 3/5] END C=0.1, fit_intercept=False;, score=(train=0.813, test=0.787) total time=   0.0s\n",
      "[CV 4/5] END C=0.1, fit_intercept=False;, score=(train=0.811, test=0.764) total time=   0.0s\n",
      "[CV 5/5] END C=0.1, fit_intercept=False;, score=(train=0.804, test=0.831) total time=   0.0s\n",
      "[CV 1/5] END C=0.05, fit_intercept=True;, score=(train=0.826, test=0.793) total time=   0.0s\n",
      "[CV 2/5] END C=0.05, fit_intercept=True;, score=(train=0.822, test=0.815) total time=   0.0s\n",
      "[CV 3/5] END C=0.05, fit_intercept=True;, score=(train=0.818, test=0.787) total time=   0.0s\n",
      "[CV 4/5] END C=0.05, fit_intercept=True;, score=(train=0.813, test=0.781) total time=   0.0s\n",
      "[CV 5/5] END C=0.05, fit_intercept=True;, score=(train=0.808, test=0.837) total time=   0.0s\n",
      "[CV 1/5] END C=0.05, fit_intercept=False;, score=(train=0.830, test=0.799) total time=   0.0s\n",
      "[CV 2/5] END C=0.05, fit_intercept=False;, score=(train=0.819, test=0.809) total time=   0.0s\n",
      "[CV 3/5] END C=0.05, fit_intercept=False;, score=(train=0.818, test=0.798) total time=   0.0s\n",
      "[CV 4/5] END C=0.05, fit_intercept=False;, score=(train=0.811, test=0.770) total time=   0.0s\n",
      "[CV 5/5] END C=0.05, fit_intercept=False;, score=(train=0.808, test=0.837) total time=   0.0s\n",
      "[CV 1/5] END C=0.025, fit_intercept=True;, score=(train=0.822, test=0.788) total time=   0.0s\n",
      "[CV 2/5] END C=0.025, fit_intercept=True;, score=(train=0.820, test=0.820) total time=   0.0s\n",
      "[CV 3/5] END C=0.025, fit_intercept=True;, score=(train=0.812, test=0.798) total time=   0.0s\n",
      "[CV 4/5] END C=0.025, fit_intercept=True;, score=(train=0.812, test=0.792) total time=   0.0s\n",
      "[CV 5/5] END C=0.025, fit_intercept=True;, score=(train=0.809, test=0.843) total time=   0.0s\n",
      "[CV 1/5] END C=0.025, fit_intercept=False;, score=(train=0.803, test=0.743) total time=   0.0s\n",
      "[CV 2/5] END C=0.025, fit_intercept=False;, score=(train=0.822, test=0.798) total time=   0.0s\n",
      "[CV 3/5] END C=0.025, fit_intercept=False;, score=(train=0.812, test=0.803) total time=   0.0s\n",
      "[CV 4/5] END C=0.025, fit_intercept=False;, score=(train=0.819, test=0.781) total time=   0.0s\n",
      "[CV 5/5] END C=0.025, fit_intercept=False;, score=(train=0.815, test=0.826) total time=   0.0s\n",
      "[CV 1/5] END C=0.01, fit_intercept=True;, score=(train=0.775, test=0.698) total time=   0.0s\n",
      "[CV 2/5] END C=0.01, fit_intercept=True;, score=(train=0.781, test=0.770) total time=   0.0s\n",
      "[CV 3/5] END C=0.01, fit_intercept=True;, score=(train=0.770, test=0.753) total time=   0.0s\n",
      "[CV 4/5] END C=0.01, fit_intercept=True;, score=(train=0.777, test=0.775) total time=   0.0s\n",
      "[CV 5/5] END C=0.01, fit_intercept=True;, score=(train=0.764, test=0.809) total time=   0.0s\n",
      "[CV 1/5] END C=0.01, fit_intercept=False;, score=(train=0.774, test=0.693) total time=   0.0s\n",
      "[CV 2/5] END C=0.01, fit_intercept=False;, score=(train=0.784, test=0.787) total time=   0.0s\n",
      "[CV 3/5] END C=0.01, fit_intercept=False;, score=(train=0.764, test=0.753) total time=   0.0s\n",
      "[CV 4/5] END C=0.01, fit_intercept=False;, score=(train=0.773, test=0.764) total time=   0.0s\n",
      "[CV 5/5] END C=0.01, fit_intercept=False;, score=(train=0.763, test=0.815) total time=   0.0s\n",
      "[CV 1/5] END C=0.005, fit_intercept=True;, score=(train=0.737, test=0.659) total time=   0.0s\n",
      "[CV 2/5] END C=0.005, fit_intercept=True;, score=(train=0.736, test=0.753) total time=   0.0s\n",
      "[CV 3/5] END C=0.005, fit_intercept=True;, score=(train=0.727, test=0.719) total time=   0.0s\n",
      "[CV 4/5] END C=0.005, fit_intercept=True;, score=(train=0.727, test=0.764) total time=   0.0s\n",
      "[CV 5/5] END C=0.005, fit_intercept=True;, score=(train=0.724, test=0.742) total time=   0.0s\n",
      "[CV 1/5] END C=0.005, fit_intercept=False;, score=(train=0.736, test=0.682) total time=   0.0s\n",
      "[CV 2/5] END C=0.005, fit_intercept=False;, score=(train=0.735, test=0.753) total time=   0.0s\n",
      "[CV 3/5] END C=0.005, fit_intercept=False;, score=(train=0.729, test=0.713) total time=   0.0s\n",
      "[CV 4/5] END C=0.005, fit_intercept=False;, score=(train=0.727, test=0.770) total time=   0.0s\n",
      "[CV 5/5] END C=0.005, fit_intercept=False;, score=(train=0.728, test=0.742) total time=   0.0s\n",
      "[CV 1/5] END C=0.0025, fit_intercept=True;, score=(train=0.713, test=0.654) total time=   0.0s\n",
      "[CV 2/5] END C=0.0025, fit_intercept=True;, score=(train=0.689, test=0.747) total time=   0.0s\n",
      "[CV 3/5] END C=0.0025, fit_intercept=True;, score=(train=0.703, test=0.691) total time=   0.0s\n",
      "[CV 4/5] END C=0.0025, fit_intercept=True;, score=(train=0.693, test=0.713) total time=   0.0s\n",
      "[CV 5/5] END C=0.0025, fit_intercept=True;, score=(train=0.696, test=0.713) total time=   0.0s\n",
      "[CV 1/5] END C=0.0025, fit_intercept=False;, score=(train=0.723, test=0.670) total time=   0.0s\n",
      "[CV 2/5] END C=0.0025, fit_intercept=False;, score=(train=0.700, test=0.747) total time=   0.0s\n",
      "[CV 3/5] END C=0.0025, fit_intercept=False;, score=(train=0.711, test=0.685) total time=   0.0s\n",
      "[CV 4/5] END C=0.0025, fit_intercept=False;, score=(train=0.698, test=0.730) total time=   0.0s\n",
      "[CV 5/5] END C=0.0025, fit_intercept=False;, score=(train=0.701, test=0.713) total time=   0.0s\n",
      "[CV 1/5] END C=0.001, fit_intercept=True;, score=(train=0.697, test=0.620) total time=   0.0s\n",
      "[CV 2/5] END C=0.001, fit_intercept=True;, score=(train=0.665, test=0.725) total time=   0.0s\n",
      "[CV 3/5] END C=0.001, fit_intercept=True;, score=(train=0.689, test=0.663) total time=   0.0s\n",
      "[CV 4/5] END C=0.001, fit_intercept=True;, score=(train=0.673, test=0.691) total time=   0.0s\n",
      "[CV 5/5] END C=0.001, fit_intercept=True;, score=(train=0.677, test=0.697) total time=   0.0s\n",
      "[CV 1/5] END C=0.001, fit_intercept=False;, score=(train=0.702, test=0.603) total time=   0.0s\n",
      "[CV 2/5] END C=0.001, fit_intercept=False;, score=(train=0.682, test=0.736) total time=   0.0s\n",
      "[CV 3/5] END C=0.001, fit_intercept=False;, score=(train=0.697, test=0.674) total time=   0.0s\n",
      "[CV 4/5] END C=0.001, fit_intercept=False;, score=(train=0.686, test=0.725) total time=   0.0s\n",
      "[CV 5/5] END C=0.001, fit_intercept=False;, score=(train=0.689, test=0.702) total time=   0.0s\n",
      "\n",
      " LogisticRegression(C=0.5) best hyperparameters are: {'C': 0.5, 'fit_intercept': True} with the accuracy of: 0.81\n"
     ]
    }
   ],
   "metadata": {}
  },
  {
   "cell_type": "markdown",
   "source": [
    "as you can see above the best model with optimum hyperparameters achieved 0.81 Accuracy."
   ],
   "metadata": {}
  },
  {
   "cell_type": "code",
   "execution_count": 88,
   "source": [
    "test_scores = grid.cv_results_['mean_test_score']\r\n",
    "train_scores = grid.cv_results_['mean_train_score'] \r\n",
    "\r\n",
    "plt.plot(test_scores, label='test')\r\n",
    "plt.plot(train_scores, label='train')\r\n",
    "plt.legend(loc='best')\r\n",
    "plt.show()"
   ],
   "outputs": [
    {
     "output_type": "display_data",
     "data": {
      "image/png": "[encoded data removed]",
      "text/plain": [
       "<Figure size 576x396 with 1 Axes>"
      ]
     },
     "metadata": {}
    }
   ],
   "metadata": {}
  },
  {
   "cell_type": "markdown",
   "source": [
    "in the graph above you can see the validation curve for each hyperparmeter."
   ],
   "metadata": {}
  },
  {
   "cell_type": "code",
   "execution_count": 98,
   "source": [
    "y_pred = grid.best_estimator_.predict(X)\r\n",
    "cnf_matrix = confusion_matrix(Y, y_pred, labels=[1,0])\r\n",
    "plt.figure(figsize=(8,6))\r\n",
    "sns.heatmap(cnf_matrix, square=True, annot=True, cbar=False, fmt='g')\r\n",
    "plt.xlabel('Predicted Value')\r\n",
    "plt.ylabel('True Value')\r\n",
    "plt.title('Confusion Matrix - Logistic Regression Model')\r\n",
    "plt.show()"
   ],
   "outputs": [
    {
     "output_type": "display_data",
     "data": {
      "image/png": "[encoded data removed]",
      "text/plain": [
       "<Figure size 576x432 with 1 Axes>"
      ]
     },
     "metadata": {}
    }
   ],
   "metadata": {}
  },
  {
   "cell_type": "markdown",
   "source": [
    "in the graph above you can see the confusion matrix of the most optimum logistic regression model."
   ],
   "metadata": {}
  },
  {
   "cell_type": "code",
   "execution_count": 104,
   "source": [
    "logit_roc_auc = roc_auc_score(Y, grid.predict(X))\r\n",
    "fpr, tpr, thresholds = roc_curve(Y, grid.predict_proba(X)[:,1], pos_label=1)\r\n",
    "plt.figure()\r\n",
    "plt.plot(fpr, tpr, label='Logistic Regression (area = %0.2f)' % logit_roc_auc)\r\n",
    "plt.plot([0, 1], [0, 1],'r--')\r\n",
    "plt.xlim([0.0, 1.0])\r\n",
    "plt.ylim([0.0, 1.05])\r\n",
    "plt.xlabel('False Positive Rate')\r\n",
    "plt.ylabel('True Positive Rate')\r\n",
    "plt.title('Receiver operating characteristic')\r\n",
    "plt.legend(loc=\"lower right\")\r\n",
    "plt.show()"
   ],
   "outputs": [
    {
     "output_type": "display_data",
     "data": {
      "image/png": "[encoded data removed]",
      "text/plain": [
       "<Figure size 576x396 with 1 Axes>"
      ]
     },
     "metadata": {}
    }
   ],
   "metadata": {}
  },
  {
   "cell_type": "markdown",
   "source": [
    "ROC curve is represented above"
   ],
   "metadata": {}
  },
  {
   "cell_type": "markdown",
   "source": [
    "# !!!!!! In 3 ta graphe bala ro bokonam to ye graph !!!!!!!"
   ],
   "metadata": {}
  },
  {
   "cell_type": "markdown",
   "source": [],
   "metadata": {}
  }
 ],
 "metadata": {
  "orig_nbformat": 4,
  "language_info": {
   "name": "python",
   "version": "3.8.5",
   "mimetype": "text/x-python",
   "codemirror_mode": {
    "name": "ipython",
    "version": 3
   },
   "pygments_lexer": "ipython3",
   "nbconvert_exporter": "python",
   "file_extension": ".py"
  },
  "kernelspec": {
   "name": "python3",
   "display_name": "Python 3.8.5 64-bit"
  },
  "interpreter": {
   "hash": "6d1a71861c61e574d1e6f521fec382a1982cd4725da29f0a5c14efb87b3124eb"
  }
 },
 "nbformat": 4,
 "nbformat_minor": 2
}